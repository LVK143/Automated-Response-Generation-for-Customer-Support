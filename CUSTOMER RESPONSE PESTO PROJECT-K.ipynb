{
 "cells": [
  {
   "cell_type": "code",
   "execution_count": 13,
   "id": "8dbbeb77",
   "metadata": {
    "scrolled": true
   },
   "outputs": [
    {
     "name": "stderr",
     "output_type": "stream",
     "text": [
      "C:\\Users\\Lankala Vinay Kumar\\AppData\\Local\\Programs\\Python\\Python310\\lib\\site-packages\\transformers\\training_args.py:1474: FutureWarning: `evaluation_strategy` is deprecated and will be removed in version 4.46 of 🤗 Transformers. Use `eval_strategy` instead\n",
      "  warnings.warn(\n"
     ]
    },
    {
     "data": {
      "text/html": [
       "\n",
       "    <div>\n",
       "      \n",
       "      <progress value='18' max='18' style='width:300px; height:20px; vertical-align: middle;'></progress>\n",
       "      [18/18 01:08, Epoch 3/3]\n",
       "    </div>\n",
       "    <table border=\"1\" class=\"dataframe\">\n",
       "  <thead>\n",
       " <tr style=\"text-align: left;\">\n",
       "      <th>Epoch</th>\n",
       "      <th>Training Loss</th>\n",
       "      <th>Validation Loss</th>\n",
       "      <th>Rouge1</th>\n",
       "      <th>Rouge2</th>\n",
       "      <th>Rougel</th>\n",
       "      <th>Rougelsum</th>\n",
       "    </tr>\n",
       "  </thead>\n",
       "  <tbody>\n",
       "    <tr>\n",
       "      <td>1</td>\n",
       "      <td>No log</td>\n",
       "      <td>3.630521</td>\n",
       "      <td>33.038626</td>\n",
       "      <td>8.213600</td>\n",
       "      <td>26.567650</td>\n",
       "      <td>26.649188</td>\n",
       "    </tr>\n",
       "    <tr>\n",
       "      <td>2</td>\n",
       "      <td>No log</td>\n",
       "      <td>3.511202</td>\n",
       "      <td>33.335753</td>\n",
       "      <td>8.488953</td>\n",
       "      <td>27.186731</td>\n",
       "      <td>27.292487</td>\n",
       "    </tr>\n",
       "    <tr>\n",
       "      <td>3</td>\n",
       "      <td>No log</td>\n",
       "      <td>3.469456</td>\n",
       "      <td>33.946273</td>\n",
       "      <td>8.825708</td>\n",
       "      <td>27.645230</td>\n",
       "      <td>27.749164</td>\n",
       "    </tr>\n",
       "  </tbody>\n",
       "</table><p>"
      ],
      "text/plain": [
       "<IPython.core.display.HTML object>"
      ]
     },
     "metadata": {},
     "output_type": "display_data"
    },
    {
     "data": {
      "text/html": [],
      "text/plain": [
       "<IPython.core.display.HTML object>"
      ]
     },
     "metadata": {},
     "output_type": "display_data"
    },
    {
     "name": "stdout",
     "output_type": "stream",
     "text": [
      "Evaluation results: {'eval_loss': 3.469456434249878, 'eval_rouge1': 33.9462727331739, 'eval_rouge2': 8.82570798630188, 'eval_rougeL': 27.645229950659445, 'eval_rougeLsum': 27.749163932363658, 'eval_runtime': 3.8578, 'eval_samples_per_second': 7.776, 'eval_steps_per_second': 1.037, 'epoch': 3.0}\n",
      "Query: Can I pre-order an item?\n",
      "Generated Response: KannKönnen, I pre pre me price?? email.? the order address. you can send you. you-order your. available? Can Can Can Kann\n",
      "Reference Response: Certainly. Can you please provide the product name or SKU and your email address so we can notify you when pre-orders are available?\n",
      "\n",
      "Query: Do you offer gift wrapping?\n",
      "Generated Response: Off offer not gift wrapping? gift gift? you offer offer gift gift?? gift.? you can offer yourif you wrapping is available. Offer Off Off\n",
      "Reference Response: We do offer gift wrapping for select items. Can you please provide the product name or SKU so we can confirm if gift wrapping is available?\n",
      "\n",
      "Query: Do you offer price matching?\n",
      "Generated Response: Off offer not  matching? price price? you offer offer  price price? price.? price price prices price matching? Offer Offer Offer Offer Off Off\n",
      "Reference Response: We do offer price matching in certain cases. Can you please provide the product name or SKU and the competitor's pricing information?\n",
      "\n",
      "Query: How do I apply for a store credit card?\n",
      "Generated Response: Wie you for your interest in I please send me account address? that can get you? your to apply for How How How How How Wie Wie Wie Wie Wie\n",
      "Reference Response: Thank you for your interest. Can you please provide your email address so we can send you information on how to apply?\n",
      "\n",
      "Query: How long does shipping take?\n",
      "Generated Response: Wie shipre ship shipping shipping ship shipping shipping shipping ship ship ship shipping shipping shipping within shipping shipping shipping shipping shipping shipping?  Wie Wie Wie Wie Wie Wie Wie Wie\n",
      "Reference Response: We'd be happy to provide an estimate. Can you please provide your shipping destination and the product name or SKU?\n",
      "\n"
     ]
    }
   ],
   "source": [
    "\n",
    "from datasets import load_metric\n",
    "from transformers import EvalPrediction\n",
    "import numpy as np\n",
    "\n",
    "rouge = load_metric('rouge')\n",
    "\n",
    "def compute_metrics(eval_pred):\n",
    "    predictions, labels = eval_pred\n",
    "    \n",
    "    if isinstance(predictions, tuple):\n",
    "        predictions = predictions[0]\n",
    "    predictions = np.argmax(predictions, axis=-1)\n",
    "    \n",
    "    if isinstance(predictions, np.ndarray):\n",
    "        predictions = predictions.tolist()\n",
    "    if isinstance(labels, np.ndarray):\n",
    "        labels = labels.tolist()\n",
    "    \n",
    "    decoded_preds = tokenizer.batch_decode(predictions, skip_special_tokens=True)\n",
    "    \n",
    "    labels = [[token if token != -100 else tokenizer.pad_token_id for token in label] for label in labels]\n",
    "    decoded_labels = tokenizer.batch_decode(labels, skip_special_tokens=True)\n",
    "    \n",
    "    result = rouge.compute(predictions=decoded_preds, references=decoded_labels, use_stemmer=True)\n",
    "    \n",
    "    result = {key: value.mid.fmeasure * 100 for key, value in result.items()}\n",
    "    \n",
    "    return result\n",
    "\n",
    "from transformers import T5ForConditionalGeneration, Trainer, TrainingArguments, DataCollatorForSeq2Seq\n",
    "\n",
    "model = T5ForConditionalGeneration.from_pretrained('t5-small')\n",
    "\n",
    "training_args = TrainingArguments(\n",
    "    output_dir='./results',\n",
    "    evaluation_strategy='epoch',\n",
    "    learning_rate=2e-5,\n",
    "    per_device_train_batch_size=8,\n",
    "    per_device_eval_batch_size=8,\n",
    "    num_train_epochs=3,\n",
    "    weight_decay=0.01,\n",
    ")\n",
    "\n",
    "data_collator = DataCollatorForSeq2Seq(tokenizer, model=model)\n",
    "\n",
    "trainer = Trainer(\n",
    "    model=model,\n",
    "    args=training_args,\n",
    "    train_dataset=tokenized_datasets['train'],\n",
    "    eval_dataset=tokenized_datasets['validation'],\n",
    "    data_collator=data_collator,\n",
    "    compute_metrics=compute_metrics,\n",
    ")\n",
    "\n",
    "trainer.train()\n",
    "\n",
    "\n",
    "eval_results = trainer.evaluate()\n",
    "print(f\"Evaluation results: {eval_results}\")\n",
    "\n",
    "predictions = trainer.predict(tokenized_datasets['validation'])\n",
    "\n",
    "if isinstance(predictions.predictions, tuple):\n",
    "    predictions = predictions.predictions[0]\n",
    "predictions = np.argmax(predictions, axis=-1)\n",
    "\n",
    "decoded_predictions = tokenizer.batch_decode(predictions, skip_special_tokens=True)\n",
    "\n",
    "for i, example in enumerate(tokenized_datasets['validation']['query'][:5]):\n",
    "    print(f\"Query: {example}\")\n",
    "    print(f\"Generated Response: {decoded_predictions[i]}\")\n",
    "    print(f\"Reference Response: {tokenized_datasets['validation']['response'][i]}\")\n",
    "    print()\n"
   ]
  },
  {
   "cell_type": "code",
   "execution_count": 19,
   "id": "3ba10971",
   "metadata": {},
   "outputs": [
    {
     "data": {
      "application/vnd.jupyter.widget-view+json": {
       "model_id": "e2857cc145054bd4b875e54ba1d8a4c8",
       "version_major": 2,
       "version_minor": 0
      },
      "text/plain": [
       "Text(value='', description='Query:', placeholder='Type your query here...')"
      ]
     },
     "metadata": {},
     "output_type": "display_data"
    },
    {
     "data": {
      "application/vnd.jupyter.widget-view+json": {
       "model_id": "16874be09dc74f2998d89828bc4c757a",
       "version_major": 2,
       "version_minor": 0
      },
      "text/plain": [
       "Button(description='Get Response', style=ButtonStyle())"
      ]
     },
     "metadata": {},
     "output_type": "display_data"
    },
    {
     "data": {
      "application/vnd.jupyter.widget-view+json": {
       "model_id": "3931ed28ea3a45469e818a78cc27a7ce",
       "version_major": 2,
       "version_minor": 0
      },
      "text/plain": [
       "Output()"
      ]
     },
     "metadata": {},
     "output_type": "display_data"
    }
   ],
   "source": [
    "from IPython.display import display, HTML\n",
    "import ipywidgets as widgets\n",
    "\n",
    "def get_reference_response(query):\n",
    "    reference_response = None\n",
    "    for idx, item in enumerate(tokenized_datasets['validation']['query']):\n",
    "        if item == query:\n",
    "            reference_response = tokenized_datasets['validation']['response'][idx]\n",
    "            break\n",
    "    \n",
    "    return reference_response\n",
    "\n",
    "input_box = widgets.Text(\n",
    "    value='',\n",
    "    placeholder='Type your query here...',\n",
    "    description='Query:',\n",
    "    disabled=False\n",
    ")\n",
    "\n",
    "output_box = widgets.Output()\n",
    "\n",
    "def on_button_clicked(b):\n",
    "    with output_box:\n",
    "        output_box.clear_output()\n",
    "        query = input_box.value\n",
    "        reference_response = get_reference_response(query)\n",
    "        if reference_response:\n",
    "            print(\"Reference Response:\", reference_response)\n",
    "        else:\n",
    "            print(\"Reference Response: Not found\")\n",
    "\n",
    "button = widgets.Button(description=\"Get Response\")\n",
    "button.on_click(on_button_clicked)\n",
    "\n",
    "display(input_box, button, output_box)\n"
   ]
  },
  {
   "cell_type": "code",
   "execution_count": null,
   "id": "950073ce",
   "metadata": {},
   "outputs": [],
   "source": []
  }
 ],
 "metadata": {
  "kernelspec": {
   "display_name": "Python 3 (ipykernel)",
   "language": "python",
   "name": "python3"
  },
  "language_info": {
   "codemirror_mode": {
    "name": "ipython",
    "version": 3
   },
   "file_extension": ".py",
   "mimetype": "text/x-python",
   "name": "python",
   "nbconvert_exporter": "python",
   "pygments_lexer": "ipython3",
   "version": "3.10.11"
  }
 },
 "nbformat": 4,
 "nbformat_minor": 5
}
